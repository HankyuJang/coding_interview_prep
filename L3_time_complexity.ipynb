{
 "cells": [
  {
   "cell_type": "markdown",
   "metadata": {},
   "source": [
    "- Removing an element in a set takes $O(1)$\n",
    "- `next(iter(A_set))`: returns one element in a set\n",
    "- Take a close look at the range of variables!\n",
    "  - minimum: 0? 1? 2?\n",
    "  - maximum: N? N-1?\n",
    "\n",
    "--------"
   ]
  },
  {
   "cell_type": "markdown",
   "metadata": {},
   "source": [
    "## FrogJmp\n",
    "\n",
    "[link](https://app.codility.com/programmers/lessons/3-time_complexity/frog_jmp/)\n",
    "\n",
    "Solution: $O(1)$. 100\\%"
   ]
  },
  {
   "cell_type": "code",
   "execution_count": 1,
   "metadata": {},
   "outputs": [],
   "source": [
    "# IDEA: only the distance matter.\n",
    "# distance = Y - X\n",
    "# answer: (Y - X) // D ( add 1 step if (Y-X)%D > 0 )\n",
    "\n",
    "def add_one_more_step(X, Y, D):\n",
    "    return (Y-X) % D > 0\n",
    "\n",
    "def full_step_counts(X, Y, D):\n",
    "    return (Y - X) // D\n",
    "\n",
    "def solution(X, Y, D):\n",
    "    # write your code in Python 3.6\n",
    "    steps = full_step_counts(X, Y, D)\n",
    "    if add_one_more_step(X, Y, D):\n",
    "        steps += 1\n",
    "    return steps"
   ]
  },
  {
   "cell_type": "markdown",
   "metadata": {},
   "source": [
    "## PermMissingElem\n",
    "\n",
    "[link](https://app.codility.com/programmers/lessons/3-time_complexity/perm_missing_elem/)\n",
    "\n",
    "Solution: $O(N) or O(N * log(N))$. 100\\%"
   ]
  },
  {
   "cell_type": "code",
   "execution_count": 11,
   "metadata": {},
   "outputs": [],
   "source": [
    "# Assumptions\n",
    "# N different integers (skip 1 integer). 1, 2, ...\n",
    "\n",
    "# IDEA O(n)\n",
    "# prep a set with 1, 2, ..., N+1\n",
    "# remove value iteratively\n",
    "\n",
    "def prepare_set(start, end):\n",
    "    return set(range(start, end+1))\n",
    "\n",
    "def remove_elements_from_set(A, A_set):\n",
    "    for elem in A:\n",
    "        A_set.remove(elem)\n",
    "\n",
    "def solution(A):\n",
    "    # write your code in Python 3.6\n",
    "    N = len(A)\n",
    "    A_set = prepare_set(1, N+1)\n",
    "    remove_elements_from_set(A, A_set)\n",
    "    missing_element = next(iter(A_set))\n",
    "    return missing_element"
   ]
  },
  {
   "cell_type": "markdown",
   "metadata": {},
   "source": [
    "## TapeEquilibrium\n",
    "\n",
    "[link](https://app.codility.com/programmers/lessons/3-time_complexity/tape_equilibrium/)\n",
    "\n",
    "solution: $O(N)$. 100%"
   ]
  },
  {
   "cell_type": "code",
   "execution_count": 12,
   "metadata": {},
   "outputs": [],
   "source": [
    "# Assumptions\n",
    "# array A != []\n",
    "# N >= 2\n",
    "# elements in A can be negative\n",
    "# P >= 1 and P <= N-1\n",
    "\n",
    "# Idea: O(n)\n",
    "# Take the total sum.\n",
    "# loop through the array A\n",
    "# keep track of prev. left_sum. only add the next value to the left_sum. (subtract from the right_sum)\n",
    "\n",
    "def get_total_sum(array):\n",
    "    return sum(array)\n",
    "\n",
    "def get_difference(a, b):\n",
    "    return abs(a - b)\n",
    "\n",
    "def update_left_right_sums(left_sum, right_sum, value):\n",
    "    return left_sum + value, right_sum - value\n",
    "\n",
    "def update_minimum(value, minimum):\n",
    "    if value < minimum:\n",
    "        minimum = value \n",
    "    return minimum\n",
    "\n",
    "def solution(A):\n",
    "    # write your code in Python 3.6\n",
    "    # P = 1.\n",
    "    left_sum, right_sum = A[0], get_total_sum(A) - A[0] \n",
    "\n",
    "    min_difference = get_difference(left_sum, right_sum) \n",
    "    # P >= 2 and P <= N-1\n",
    "    for value in A[1: -1]:\n",
    "        left_sum, right_sum = update_left_right_sums(left_sum, right_sum, value)\n",
    "        difference = get_difference(left_sum, right_sum)\n",
    "        min_difference = update_minimum(difference, min_difference)\n",
    "    \n",
    "    return min_difference"
   ]
  }
 ],
 "metadata": {
  "kernelspec": {
   "display_name": "Python 3",
   "language": "python",
   "name": "python3"
  },
  "language_info": {
   "codemirror_mode": {
    "name": "ipython",
    "version": 3
   },
   "file_extension": ".py",
   "mimetype": "text/x-python",
   "name": "python",
   "nbconvert_exporter": "python",
   "pygments_lexer": "ipython3",
   "version": "3.7.4"
  }
 },
 "nbformat": 4,
 "nbformat_minor": 4
}
