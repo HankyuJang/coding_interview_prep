{
 "cells": [
  {
   "cell_type": "markdown",
   "metadata": {},
   "source": [
    "- python list + list is concatenation. E.g., [1, 2] + [3, 4] = [1, 2, 3, 4]\n",
    "- XOR: if two binary are different, returns True\n",
    "  - True ^ False = True \n",
    "  - False ^ True = True\n",
    "  - other combinations are False\n",
    "- Set deletion is $O(1)$\n",
    "\n",
    "------"
   ]
  },
  {
   "cell_type": "markdown",
   "metadata": {},
   "source": [
    "## CyclicRotation\n",
    "\n",
    "[link](https://app.codility.com/programmers/lessons/2-arrays/cyclic_rotation/)\n",
    "\n",
    "Solution: $O()$ . 100\\%"
   ]
  },
  {
   "cell_type": "code",
   "execution_count": 11,
   "metadata": {},
   "outputs": [],
   "source": [
    "# you can write to stdout for debugging purposes, e.g.\n",
    "# print(\"this is a debug message\")\n",
    "\n",
    "# IDEA: if shift to the right K times, then K elements on the right will move forward, and the rest of the elements move back\n",
    "def get_two_partitions(A, N, K):\n",
    "    return A[:N-K], A[-K:]\n",
    "\n",
    "def solution(A, K):\n",
    "    # write your code in Python 3.6\n",
    "    N = len(A)\n",
    "    if N == 0:\n",
    "        rotated_array = A\n",
    "    else:\n",
    "        # If the shift is larger than the size of the array, take the 'mod'\n",
    "        K = K % N\n",
    "\n",
    "        if K == 0:\n",
    "            rotated_array = A\n",
    "        else:\n",
    "            left_array, right_array = get_two_partitions(A, N, K)\n",
    "            rotated_array = right_array + left_array\n",
    "    return rotated_array\n"
   ]
  },
  {
   "cell_type": "markdown",
   "metadata": {},
   "source": [
    "## OddOccurrencesInArray\n",
    "\n",
    "[link](https://app.codility.com/programmers/lessons/2-arrays/odd_occurrences_in_array/)\n",
    "\n",
    "Solution: $O(N) or O(N*log(N))$. 100\\%"
   ]
  },
  {
   "cell_type": "code",
   "execution_count": 22,
   "metadata": {},
   "outputs": [],
   "source": [
    "# you can write to stdout for debugging purposes, e.g.\n",
    "# print(\"this is a debug message\")\n",
    "\n",
    "# Assumptions\n",
    "# N is odd. Large number\n",
    "# Each number is can also be very large\n",
    "# Only one value occur odd number of times\n",
    "\n",
    "# IDEA: loop once. save the number as 'key' and value is boolean.\n",
    "# Return the key with value of True.\n",
    "\n",
    "def prep_dictionary(A):\n",
    "    number_dict = dict()\n",
    "    for number in A:\n",
    "        if number in number_dict:\n",
    "            number_dict[number] = number_dict[number] ^ True\n",
    "        else:\n",
    "            number_dict[number] = True\n",
    "    return number_dict\n",
    "\n",
    "def get_key_with_True_value(dictionary):\n",
    "    key_w_True_value = -1\n",
    "    for k in dictionary:\n",
    "        if dictionary[k]:\n",
    "            key_w_True_value = k\n",
    "            break\n",
    "    return key_w_True_value\n",
    "\n",
    "def solution(A):\n",
    "    # write your code in Python 3.6\n",
    "    number_dict = prep_dictionary(A)\n",
    "    unpaired_number = get_key_with_True_value(number_dict)\n",
    "    return unpaired_number"
   ]
  }
 ],
 "metadata": {
  "kernelspec": {
   "display_name": "Python 3",
   "language": "python",
   "name": "python3"
  },
  "language_info": {
   "codemirror_mode": {
    "name": "ipython",
    "version": 3
   },
   "file_extension": ".py",
   "mimetype": "text/x-python",
   "name": "python",
   "nbconvert_exporter": "python",
   "pygments_lexer": "ipython3",
   "version": "3.7.4"
  }
 },
 "nbformat": 4,
 "nbformat_minor": 4
}
