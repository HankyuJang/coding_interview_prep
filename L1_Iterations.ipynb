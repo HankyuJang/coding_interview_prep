{
 "cells": [
  {
   "cell_type": "markdown",
   "metadata": {},
   "source": [
    "- Reverse the order of elements in Python list by a.reverse(). In-place.\n",
    "\n",
    "-----"
   ]
  },
  {
   "cell_type": "markdown",
   "metadata": {},
   "source": [
    "## binary gap\n",
    "\n",
    "[Link](https://app.codility.com/programmers/lessons/1-iterations/binary_gap/)\n",
    "\n",
    "Solution: $O()$: 100\\%"
   ]
  },
  {
   "cell_type": "code",
   "execution_count": 2,
   "metadata": {},
   "outputs": [],
   "source": [
    "# you can write to stdout for debugging purposes, e.g.\n",
    "# print(\"this is a debug message\")\n",
    "\n",
    "# returns a list of binary numbers\n",
    "def convert_to_binary(N):\n",
    "    N_binary = []\n",
    "    while True:\n",
    "        if N == 1:\n",
    "            N_binary.append(1)\n",
    "            break\n",
    "        binary = N % 2\n",
    "        N_binary.append(binary)\n",
    "        N = N // 2\n",
    "    N_binary.reverse()\n",
    "    return N_binary\n",
    "\n",
    "def get_max_consecutive_0s(binary_array):\n",
    "    max_cnt = 0\n",
    "    cnt = 0\n",
    "    for value in binary_array:\n",
    "        if value == 1:\n",
    "            if cnt > max_cnt:\n",
    "                max_cnt = cnt\n",
    "            cnt = 0\n",
    "        else:\n",
    "            cnt += 1\n",
    "    return max_cnt\n",
    "\n",
    "def get_numbers_w_no_binary_gap(N, max_number):\n",
    "    # number w/ no binary gap\n",
    "    numbers_w_no_binary_gap = [1]\n",
    "    number = 2\n",
    "    while True:\n",
    "        if number > max_number:\n",
    "            break\n",
    "        if number % 2 == 0:\n",
    "            numbers_w_no_binary_gap.append(number)\n",
    "        number *= 2\n",
    "    return numbers_w_no_binary_gap        \n",
    "\n",
    "def solution(N):\n",
    "    max_number = 2147483647\n",
    "    # write your code in Python 3.6\n",
    "    numbers_w_no_binary_gap = get_numbers_w_no_binary_gap(N, max_number)\n",
    "\n",
    "    if N in numbers_w_no_binary_gap:\n",
    "        max_binary_gap = 0\n",
    "    else:\n",
    "        N_binary = convert_to_binary(N)\n",
    "        max_binary_gap = get_max_consecutive_0s(N_binary)\n",
    "\n",
    "    return max_binary_gap"
   ]
  }
 ],
 "metadata": {
  "kernelspec": {
   "display_name": "Python 3",
   "language": "python",
   "name": "python3"
  },
  "language_info": {
   "codemirror_mode": {
    "name": "ipython",
    "version": 3
   },
   "file_extension": ".py",
   "mimetype": "text/x-python",
   "name": "python",
   "nbconvert_exporter": "python",
   "pygments_lexer": "ipython3",
   "version": "3.7.4"
  }
 },
 "nbformat": 4,
 "nbformat_minor": 4
}
