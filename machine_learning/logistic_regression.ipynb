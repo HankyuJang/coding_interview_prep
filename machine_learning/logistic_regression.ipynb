{
 "cells": [
  {
   "cell_type": "markdown",
   "metadata": {},
   "source": [
    "# Logistic regression"
   ]
  },
  {
   "cell_type": "markdown",
   "metadata": {},
   "source": [
    "binary classification model"
   ]
  },
  {
   "cell_type": "markdown",
   "metadata": {},
   "source": [
    "1. Compute probabiltiy in class '1'\n",
    "  - Logistic function (sigmoid function): $g(z) = \\frac{1}{1+e^{-z}}$\n",
    "2. Predict classes based on probability and threshold"
   ]
  },
  {
   "cell_type": "markdown",
   "metadata": {},
   "source": [
    "Probabiltiy of class '1'\n",
    "\n",
    "$p(x, \\beta) = P(y = 1 | x, \\beta) = P(y = 0 | x, \\beta)$\n",
    "\n",
    "- $x$: independent variables or features\n",
    "- $\\beta$: parameters"
   ]
  },
  {
   "cell_type": "markdown",
   "metadata": {},
   "source": [
    "$p(x, \\beta) = g(\\beta_0 + \\beta_1 x_1 + \\dots + \\beta_n x_n)$"
   ]
  },
  {
   "cell_type": "markdown",
   "metadata": {},
   "source": [
    "$g(z) = \\frac{1}{1+e^{-z}}$"
   ]
  },
  {
   "cell_type": "markdown",
   "metadata": {},
   "source": [
    "## Maximum likelihood estimation (MLE)\n",
    "\n",
    "- Use $\\beta, x, y \\rightarrow$ likelihood function\n",
    "- Estimate $\\beta \\rightarrow$ maximizes likelihood"
   ]
  },
  {
   "cell_type": "markdown",
   "metadata": {},
   "source": [
    "We want to select $\\beta$ that maximizes the probabiltiy of observing the data we observe"
   ]
  },
  {
   "cell_type": "markdown",
   "metadata": {},
   "source": [
    "- features: $x_i = [x_i^1, x_i^2, \\dots x_i^n]$\n",
    "- observed class: $y_i$\n",
    "- probability\n",
    "  - $p(y_i = 1 | x_i, \\beta) = p(x_i)$\n",
    "  - $p(y_i = 0 | x_i, \\beta) = 1 - p(x_i)$"
   ]
  },
  {
   "cell_type": "markdown",
   "metadata": {},
   "source": [
    "## Likelihood function\n",
    "\n",
    "$L(\\beta) = \\prod_{i=1}^{m} p(y_i=1 | x_i, \\beta)^{y_i} \\cdot p(y_i=0 | x_i, \\beta)^{1 - y_i}$\n",
    "\n",
    "$= \\prod_{i=1}^{m} p(x_i)^{y_i} \\cdot (1 - p(x_i))^{1-y_i}$"
   ]
  },
  {
   "cell_type": "markdown",
   "metadata": {},
   "source": [
    "To simplify the calculation (or to prevent the value of being too small) we take log"
   ]
  },
  {
   "cell_type": "markdown",
   "metadata": {},
   "source": [
    "$log(L(\\beta)) = log(\\prod_{i=1}^{m} p(x_i)^{y_i} \\cdot (1 - p(x_i))^{1-y_i})$\n",
    "\n",
    "$LL(\\beta) = \\sum_{i=1}^{m} [{y_i} log(p(x_i)) + {(1-y_i)}log(1 - p(x_i))]$"
   ]
  },
  {
   "cell_type": "markdown",
   "metadata": {},
   "source": [
    "Now the goal becomes to find $\\beta$ that maximizes the log likelihood\n",
    "\n",
    "Use gradient descent!"
   ]
  },
  {
   "cell_type": "markdown",
   "metadata": {},
   "source": [
    "## Log loss function (multiply -1/m on the log likelihood)"
   ]
  },
  {
   "cell_type": "markdown",
   "metadata": {},
   "source": [
    "$J(\\beta) = - \\frac{1}{m} \\sum_{i=1}^{m} [{y_i} log(p(x_i)) + {(1-y_i)}log(1 - p(x_i))]$"
   ]
  },
  {
   "cell_type": "markdown",
   "metadata": {},
   "source": [
    "Goal: find $\\beta$ to __Minimize__ the los loss function!"
   ]
  },
  {
   "cell_type": "markdown",
   "metadata": {},
   "source": [
    "Estimating $\\beta$\n",
    "\n",
    "- Random  guess. compute log loss.\n",
    "- Compute gradients for each parameter ($\\beta$s), and update $\\beta$\n",
    "- Repeat the step until convergence"
   ]
  },
  {
   "cell_type": "markdown",
   "metadata": {},
   "source": [
    "## Gradient $\\beta_j$"
   ]
  },
  {
   "cell_type": "markdown",
   "metadata": {},
   "source": [
    "$\\frac{\\partial}{\\partial \\beta_j} J(\\beta) = \\frac{1}{m} \\sum_{i=1}^{m} (p(x_i) - y_i) x_{ij}$"
   ]
  },
  {
   "cell_type": "markdown",
   "metadata": {},
   "source": [
    "- $i$ is the index of the data points [1 ... m]\n",
    "- $j$ is the index of the feature [1 ... n]"
   ]
  }
 ],
 "metadata": {
  "kernelspec": {
   "display_name": "Python 3",
   "language": "python",
   "name": "python3"
  },
  "language_info": {
   "codemirror_mode": {
    "name": "ipython",
    "version": 3
   },
   "file_extension": ".py",
   "mimetype": "text/x-python",
   "name": "python",
   "nbconvert_exporter": "python",
   "pygments_lexer": "ipython3",
   "version": "3.7.4"
  }
 },
 "nbformat": 4,
 "nbformat_minor": 4
}
