{
 "cells": [
  {
   "cell_type": "markdown",
   "metadata": {},
   "source": [
    "## Distinct\n",
    "\n",
    "[link](https://app.codility.com/programmers/lessons/6-sorting/distinct/)\n",
    "\n",
    "solution: $O(N*log(N)) or O(N)$. 100\\%"
   ]
  },
  {
   "cell_type": "code",
   "execution_count": 1,
   "metadata": {},
   "outputs": [],
   "source": [
    "# Assumption\n",
    "# N = 0, 1, ..., 100000\n",
    "# elements in the array can be negative\n",
    "\n",
    "# Idea: sort, then count -> O(n log n)\n",
    "\n",
    "# Another idea: use set (O(N))\n",
    "\n",
    "def prepare_set(array):\n",
    "    dictinct_values_set = set([])\n",
    "    for value in array:\n",
    "        dictinct_values_set.add(value)\n",
    "    return dictinct_values_set\n",
    "\n",
    "def solution(A):\n",
    "    # write your code in Python 3.6\n",
    "    dictinct_values_set = prepare_set(A)\n",
    "    return len(dictinct_values_set)"
   ]
  },
  {
   "cell_type": "markdown",
   "metadata": {},
   "source": [
    "## "
   ]
  }
 ],
 "metadata": {
  "kernelspec": {
   "display_name": "Python 3",
   "language": "python",
   "name": "python3"
  },
  "language_info": {
   "codemirror_mode": {
    "name": "ipython",
    "version": 3
   },
   "file_extension": ".py",
   "mimetype": "text/x-python",
   "name": "python",
   "nbconvert_exporter": "python",
   "pygments_lexer": "ipython3",
   "version": "3.7.4"
  }
 },
 "nbformat": 4,
 "nbformat_minor": 4
}
