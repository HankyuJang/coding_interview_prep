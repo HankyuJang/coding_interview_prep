{
 "cells": [
  {
   "cell_type": "markdown",
   "metadata": {},
   "source": [
    "## PassingCars\n",
    "\n",
    "[Problem Link](https://app.codility.com/programmers/lessons/5-prefix_sums/passing_cars/)\n",
    "\n",
    "Solution: $O(N)$. 100%"
   ]
  },
  {
   "cell_type": "code",
   "execution_count": 1,
   "metadata": {},
   "outputs": [],
   "source": [
    "# Idea: A = [0, 1, 0, 1, 1]\n",
    "# Prepare an array w/ info on 1s (# of 0s passing)\n",
    "# -> For each '1', count number of 0's on the left. [0, 1, 0, 2, 2]. Take sum.\n",
    "\n",
    "# return array of size A\n",
    "# for value in index i,\n",
    "# If A[i] == 0: set 0\n",
    "# Elif A[i] == 1: set as the count of zeros on left\n",
    "def count_zeros_on_left(A):\n",
    "    cnt = 0\n",
    "    array_zeros_on_left = []\n",
    "    for value in A:\n",
    "        if value == 0:\n",
    "            cnt += 1\n",
    "            array_zeros_on_left.append(0)\n",
    "        else:\n",
    "            array_zeros_on_left.append(cnt)\n",
    "    return array_zeros_on_left\n",
    "\n",
    "def solution(A):\n",
    "    # write your code in Python 3.6\n",
    "    array_zeros_on_left = count_zeros_on_left(A)\n",
    "\n",
    "    cnt_threshold = 1000000000\n",
    "    cnt_passing_cars = sum(array_zeros_on_left)\n",
    "\n",
    "    if cnt_passing_cars > cnt_threshold:\n",
    "        return -1\n",
    "    else:\n",
    "        return cnt_passing_cars"
   ]
  },
  {
   "cell_type": "markdown",
   "metadata": {},
   "source": [
    "## CountDiv\n",
    "\n",
    "[Problem Link](https://app.codility.com/programmers/lessons/5-prefix_sums/count_div/)\n",
    "Solution: $O(1)$. 100%"
   ]
  },
  {
   "cell_type": "code",
   "execution_count": 1,
   "metadata": {},
   "outputs": [],
   "source": [
    "# Idea: diff (count divisible till B, count divisible till A-1)\n",
    "\n",
    "# get count of divisible by K from 0 to X (both inclusive)\n",
    "def get_count_divisible(X, k):\n",
    "    return X // k\n",
    "\n",
    "def solution(A, B, K):\n",
    "    # write your code in Python 3.6\n",
    "    count_divisible_right = get_count_divisible(B, K)\n",
    "    count_divisible_left = get_count_divisible(A-1, K)\n",
    "    return count_divisible_right - count_divisible_left"
   ]
  },
  {
   "cell_type": "markdown",
   "metadata": {},
   "source": [
    "## GenomicRangeQuery\n",
    "\n",
    "[Problem Link](https://app.codility.com/programmers/lessons/5-prefix_sums/genomic_range_query/)\n",
    "\n",
    "Solution: $O(N * M)$: 75%\n",
    "\n",
    "```\n",
    "almost_all_same_letters\n",
    "GGGGGG..??..GGGGGG..??..GGGGGG\n",
    "\n",
    "TIMEOUT ERROR\n",
    "running time: 3.564 sec., time limit: 0.928 sec.\n",
    "```\n",
    "\n",
    "```\n",
    "large_random\n",
    "large random string, length\n",
    "\n",
    "TIMEOUT ERROR\n",
    "running time: 3.096 sec., time limit: 0.960 sec.\n",
    "```"
   ]
  },
  {
   "cell_type": "code",
   "execution_count": 2,
   "metadata": {},
   "outputs": [],
   "source": [
    "# Idea: Prepare sorted array_A, array_C, array_G, array_T\n",
    "# E.g., array_A, for the min and max, look for the first element that is >= min.\n",
    "# If that element is <= max, then it means A is within the range.\n",
    "\n",
    "# \n",
    "def prepare_array_with_indices_per_letter(S):\n",
    "    array_A, array_C, array_G, array_T = [], [], [], []\n",
    "    for idx, letter in enumerate(S):\n",
    "        if letter == 'A':\n",
    "            array_A.append(idx)\n",
    "        elif letter == 'C':\n",
    "            array_C.append(idx)\n",
    "        elif letter == 'G':\n",
    "            array_G.append(idx)\n",
    "        elif letter == 'T':\n",
    "            array_T.append(idx)\n",
    "    return array_A, array_C, array_G, array_T        \n",
    "\n",
    "# If letter is found, flag=True\n",
    "def find_letter(array_letter, p, q):\n",
    "    flag = False\n",
    "    for value in array_letter:\n",
    "        if value >= p:\n",
    "            if value <= q:\n",
    "                flag = True\n",
    "            break\n",
    "    return flag    \n",
    "\n",
    "def solution(S, P, Q):\n",
    "    # write your code in Python 3.6\n",
    "    array_A, array_C, array_G, array_T = prepare_array_with_indices_per_letter(S)\n",
    "    val_A, val_C, val_G, val_T = 1, 2, 3, 4\n",
    "\n",
    "    solution_array = []\n",
    "    for p, q in zip(P, Q):\n",
    "        # A\n",
    "        if find_letter(array_A, p, q):\n",
    "            solution_array.append(val_A)\n",
    "        elif find_letter(array_C, p, q):\n",
    "            solution_array.append(val_C)\n",
    "        elif find_letter(array_G, p, q):\n",
    "            solution_array.append(val_G)\n",
    "        else:\n",
    "            solution_array.append(val_T)\n",
    "    \n",
    "    return solution_array"
   ]
  },
  {
   "cell_type": "code",
   "execution_count": null,
   "metadata": {},
   "outputs": [],
   "source": []
  }
 ],
 "metadata": {
  "kernelspec": {
   "display_name": "Python 3",
   "language": "python",
   "name": "python3"
  },
  "language_info": {
   "codemirror_mode": {
    "name": "ipython",
    "version": 3
   },
   "file_extension": ".py",
   "mimetype": "text/x-python",
   "name": "python",
   "nbconvert_exporter": "python",
   "pygments_lexer": "ipython3",
   "version": "3.7.4"
  }
 },
 "nbformat": 4,
 "nbformat_minor": 4
}
