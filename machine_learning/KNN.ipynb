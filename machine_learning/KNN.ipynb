{
 "cells": [
  {
   "cell_type": "markdown",
   "metadata": {},
   "source": [
    "# KNN"
   ]
  },
  {
   "cell_type": "markdown",
   "metadata": {},
   "source": [
    "\"You are determined by your __closest__ neighbors\""
   ]
  },
  {
   "cell_type": "markdown",
   "metadata": {},
   "source": [
    "__Pros__\n",
    "\n",
    "- Does not learn parameters (non-parametric)\n",
    "- Used in regression and classification"
   ]
  },
  {
   "cell_type": "markdown",
   "metadata": {},
   "source": [
    "How it works?\n",
    "\n",
    "1. Find $k$ closest neighbors. Need to measure distance btw new data point and all existing data points\n",
    "  - metric: Euclidean distance\n",
    "  - metric: Cosine similarity\n",
    "2. Use the neighbors for prediction\n",
    "  - Classificaiton task: majority of the neighbor's class\n",
    "  - Regression: average of all neighbor values\n"
   ]
  },
  {
   "cell_type": "markdown",
   "metadata": {},
   "source": [
    "Q: If you're looking for apartment. Is the rent price reasonable? How to check this?\n",
    "\n",
    "A: Look for rent prices on the neighboring apartments with similar size, bed rooms, bath rooms, etc. Then compare the price w/ the average of neighboring apartments.\n",
    "\n",
    "This is exactly how KNN works!"
   ]
  },
  {
   "cell_type": "markdown",
   "metadata": {},
   "source": [
    "## Complexity\n",
    "\n",
    "- m: number of data points\n",
    "- n: number of features\n",
    "\n",
    "- Computing distance of a new point to all other points: $O(mn)$\n",
    "- Sorting takes $O(m log m)$\n",
    "- In total, time complexity is $O(mn)$ + $O(m log m)$\n",
    "\n",
    "typically, $m >> n$, so $O(m log m)$"
   ]
  },
  {
   "cell_type": "markdown",
   "metadata": {},
   "source": [
    "## How to choose $k$?\n",
    "\n",
    "- method1: $k$ is pre-determined. Choose the $k$ that makes most sense for the data or the problem.\n",
    "- method2: $k = \\sqrt{m}$. E.g., if you have 400 data points, use $k$ = 20\n",
    "- method3: Cross-validation. Find $k$ that gives the lowest cross-validation error!"
   ]
  },
  {
   "cell_type": "markdown",
   "metadata": {},
   "source": [
    "## Implementation"
   ]
  },
  {
   "cell_type": "code",
   "execution_count": 1,
   "metadata": {},
   "outputs": [],
   "source": [
    "class KNN:\n",
    "    def __init__(self):\n",
    "        self.x = None\n",
    "        self.y = None\n",
    "    def train(self, x, y):\n",
    "        self.x = x\n",
    "        self.y = y\n",
    "    def predict(self, x, k):\n",
    "        distance_label = [(self.distance(x, train_point), train_label) for train_point, train_label in zip(self.x, self.y)]\n",
    "        neighbors = sorted(distance_label)[:k]\n",
    "        if problem=='Regression':\n",
    "            return sum(label for _, label in neighbors) / k\n",
    "        elif problem=='classification':\n",
    "            return Counter(neighbor_labels).most_common()[0][0]"
   ]
  }
 ],
 "metadata": {
  "kernelspec": {
   "display_name": "Python 3",
   "language": "python",
   "name": "python3"
  },
  "language_info": {
   "codemirror_mode": {
    "name": "ipython",
    "version": 3
   },
   "file_extension": ".py",
   "mimetype": "text/x-python",
   "name": "python",
   "nbconvert_exporter": "python",
   "pygments_lexer": "ipython3",
   "version": "3.7.4"
  }
 },
 "nbformat": 4,
 "nbformat_minor": 4
}
