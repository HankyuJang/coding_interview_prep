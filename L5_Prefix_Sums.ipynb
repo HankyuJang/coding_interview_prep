{
 "cells": [
  {
   "cell_type": "markdown",
   "metadata": {},
   "source": [
    "## PassingCars\n",
    "\n",
    "[Problem Link](https://app.codility.com/programmers/lessons/5-prefix_sums/passing_cars/)\n",
    "\n",
    "My solution: $O(N)$"
   ]
  },
  {
   "cell_type": "code",
   "execution_count": 1,
   "metadata": {},
   "outputs": [],
   "source": [
    "# return array of size A\n",
    "# for value in index i,\n",
    "# If A[i] == 0: set 0\n",
    "# Elif A[i] == 1: set as the count of zeros on left\n",
    "def count_zeros_on_left(A):\n",
    "    cnt = 0\n",
    "    array_zeros_on_left = []\n",
    "    for value in A:\n",
    "        if value == 0:\n",
    "            cnt += 1\n",
    "            array_zeros_on_left.append(0)\n",
    "        else:\n",
    "            array_zeros_on_left.append(cnt)\n",
    "    return array_zeros_on_left\n",
    "\n",
    "def solution(A):\n",
    "    # write your code in Python 3.6\n",
    "    array_zeros_on_left = count_zeros_on_left(A)\n",
    "\n",
    "    cnt_threshold = 1000000000\n",
    "    cnt_passing_cars = sum(array_zeros_on_left)\n",
    "\n",
    "    if cnt_passing_cars > cnt_threshold:\n",
    "        return -1\n",
    "    else:\n",
    "        return cnt_passing_cars"
   ]
  },
  {
   "cell_type": "code",
   "execution_count": null,
   "metadata": {},
   "outputs": [],
   "source": []
  }
 ],
 "metadata": {
  "kernelspec": {
   "display_name": "Python 3",
   "language": "python",
   "name": "python3"
  },
  "language_info": {
   "codemirror_mode": {
    "name": "ipython",
    "version": 3
   },
   "file_extension": ".py",
   "mimetype": "text/x-python",
   "name": "python",
   "nbconvert_exporter": "python",
   "pygments_lexer": "ipython3",
   "version": "3.7.4"
  }
 },
 "nbformat": 4,
 "nbformat_minor": 4
}
